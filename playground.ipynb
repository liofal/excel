{
 "cells": [
  {
   "cell_type": "code",
   "execution_count": 35,
   "metadata": {},
   "outputs": [
    {
     "name": "stdout",
     "output_type": "stream",
     "text": [
      "Requirement already satisfied: pandas in /Users/lionelfalise/Downloads/github/liofal/excel/.venv/lib/python3.11/site-packages (2.2.2)\n",
      "Requirement already satisfied: openpyxl in /Users/lionelfalise/Downloads/github/liofal/excel/.venv/lib/python3.11/site-packages (3.1.2)\n",
      "\u001b[31mERROR: Could not find a version that satisfies the requirement decimal (from versions: none)\u001b[0m\u001b[31m\n",
      "\u001b[0m\u001b[31mERROR: No matching distribution found for decimal\u001b[0m\u001b[31m\n",
      "\u001b[0m"
     ]
    }
   ],
   "source": [
    "!pip install pandas \n",
    "!pip install openpyxl\n"
   ]
  },
  {
   "cell_type": "code",
   "execution_count": 40,
   "metadata": {},
   "outputs": [
    {
     "name": "stdout",
     "output_type": "stream",
     "text": [
      "Total value: 0.4000\n",
      "\n",
      "Report:\n",
      "sample.xlsx: 0.4000\n",
      "\n",
      "All values found:\n",
      "0.0500\n",
      "0.0500\n",
      "0.0500\n",
      "0.0500\n",
      "0.0500\n",
      "0.0500\n",
      "0.0500\n",
      "0.0500\n"
     ]
    }
   ],
   "source": [
    "import os\n",
    "from openpyxl import load_workbook\n",
    "from decimal import Decimal, InvalidOperation\n",
    "\n",
    "# Set the directory path where the Excel files are located\n",
    "directory_path = '/Users/lionelfalise/Downloads/github/liofal/excel/reports'\n",
    "\n",
    "# Initialize variables to store the total and the report\n",
    "total_value = Decimal(0)\n",
    "report = []\n",
    "all_values = []\n",
    "\n",
    "# Loop through all the files in the directory\n",
    "for filename in os.listdir(directory_path):\n",
    "    if filename.endswith('.xlsx'):\n",
    "        # Load the Excel file\n",
    "        file_path = os.path.join(directory_path, filename)\n",
    "        workbook = load_workbook(file_path)\n",
    "        sheet = workbook.active\n",
    "\n",
    "        # Initialize the sum for the current file\n",
    "        file_total = Decimal(0)\n",
    "\n",
    "        # Loop through the rows in the sheet, starting from the second row (skip the header)\n",
    "        for row in range(1, sheet.max_row + 1):\n",
    "            # Get the value in the 17th column (column 'R')\n",
    "            value = sheet.cell(row=row, column=18).value\n",
    "            if value is not None:\n",
    "                try:\n",
    "                    # Check the data type of the value\n",
    "                    if isinstance(value, str):\n",
    "                        # Strip any non-numeric characters and convert to Decimal\n",
    "                        value = Decimal(value.strip('$,'))\n",
    "                    elif isinstance(value, (int, float)):\n",
    "                        # Convert the value directly to Decimal\n",
    "                        value = Decimal(value)\n",
    "                    else:\n",
    "                        # Skip the row if the value is of an unsupported type\n",
    "                        continue\n",
    "\n",
    "                    # Add the value to the file total\n",
    "                    file_total += value\n",
    "                    all_values.append(value)\n",
    "                except (ValueError, InvalidOperation):\n",
    "                    # Skip the row if the value cannot be converted to a Decimal\n",
    "                    pass\n",
    "\n",
    "        # Add the file total to the overall total\n",
    "        total_value += file_total\n",
    "\n",
    "        # Add the file total to the report\n",
    "        report.append(f\"{filename}: {file_total}\")\n",
    "\n",
    "# Print the total and the report\n",
    "print(f\"Total value: {total_value}\")\n",
    "print(\"\\nReport:\")\n",
    "for line in report:\n",
    "    print(line)\n",
    "\n",
    "print(\"\\nAll values found:\")\n",
    "for value in all_values:\n",
    "    print(value)"
   ]
  }
 ],
 "metadata": {
  "kernelspec": {
   "display_name": ".venv",
   "language": "python",
   "name": "python3"
  },
  "language_info": {
   "codemirror_mode": {
    "name": "ipython",
    "version": 3
   },
   "file_extension": ".py",
   "mimetype": "text/x-python",
   "name": "python",
   "nbconvert_exporter": "python",
   "pygments_lexer": "ipython3",
   "version": "3.11.3"
  }
 },
 "nbformat": 4,
 "nbformat_minor": 2
}
